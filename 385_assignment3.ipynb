{
  "nbformat": 4,
  "nbformat_minor": 0,
  "metadata": {
    "colab": {
      "provenance": [],
      "authorship_tag": "ABX9TyPtUjJhO7aF5wWBl7o0Gi4d",
      "include_colab_link": true
    },
    "kernelspec": {
      "name": "python3",
      "display_name": "Python 3"
    },
    "language_info": {
      "name": "python"
    }
  },
  "cells": [
    {
      "cell_type": "markdown",
      "metadata": {
        "id": "view-in-github",
        "colab_type": "text"
      },
      "source": [
        "<a href=\"https://colab.research.google.com/github/johnsingh13/385Lab/blob/main/385_assignment3.ipynb\" target=\"_parent\"><img src=\"https://colab.research.google.com/assets/colab-badge.svg\" alt=\"Open In Colab\"/></a>"
      ]
    },
    {
      "cell_type": "code",
      "source": [
        "!python -m pip install -U pip\n",
        "!python -m pip install -U matplotlib \n"
      ],
      "metadata": {
        "colab": {
          "base_uri": "https://localhost:8080/"
        },
        "id": "4ldDi9G0tNEt",
        "outputId": "40f4f736-89e8-49de-d66e-32770774f591"
      },
      "execution_count": null,
      "outputs": [
        {
          "output_type": "stream",
          "name": "stdout",
          "text": [
            "Looking in indexes: https://pypi.org/simple, https://us-python.pkg.dev/colab-wheels/public/simple/\n",
            "Requirement already satisfied: pip in /usr/local/lib/python3.8/dist-packages (22.0.4)\n",
            "Collecting pip\n",
            "  Downloading pip-23.0.1-py3-none-any.whl (2.1 MB)\n",
            "\u001b[2K     \u001b[90m━━━━━━━━━━━━━━━━━━━━━━━━━━━━━━━━━━━━━━━━\u001b[0m \u001b[32m2.1/2.1 MB\u001b[0m \u001b[31m14.6 MB/s\u001b[0m eta \u001b[36m0:00:00\u001b[0m\n",
            "\u001b[?25hInstalling collected packages: pip\n",
            "  Attempting uninstall: pip\n",
            "    Found existing installation: pip 22.0.4\n",
            "    Uninstalling pip-22.0.4:\n",
            "      Successfully uninstalled pip-22.0.4\n",
            "Successfully installed pip-23.0.1\n",
            "Looking in indexes: https://pypi.org/simple, https://us-python.pkg.dev/colab-wheels/public/simple/\n",
            "Requirement already satisfied: matplotlib in /usr/local/lib/python3.8/dist-packages (3.5.3)\n",
            "Collecting matplotlib\n",
            "  Downloading matplotlib-3.7.0-cp38-cp38-manylinux_2_12_x86_64.manylinux2010_x86_64.whl (9.2 MB)\n",
            "\u001b[2K     \u001b[90m━━━━━━━━━━━━━━━━━━━━━━━━━━━━━━━━━━━━━━━━\u001b[0m \u001b[32m9.2/9.2 MB\u001b[0m \u001b[31m37.3 MB/s\u001b[0m eta \u001b[36m0:00:00\u001b[0m\n",
            "\u001b[?25hRequirement already satisfied: fonttools>=4.22.0 in /usr/local/lib/python3.8/dist-packages (from matplotlib) (4.38.0)\n",
            "Requirement already satisfied: kiwisolver>=1.0.1 in /usr/local/lib/python3.8/dist-packages (from matplotlib) (1.4.4)\n",
            "Requirement already satisfied: numpy>=1.20 in /usr/local/lib/python3.8/dist-packages (from matplotlib) (1.22.4)\n",
            "Collecting contourpy>=1.0.1\n",
            "  Downloading contourpy-1.0.7-cp38-cp38-manylinux_2_17_x86_64.manylinux2014_x86_64.whl (300 kB)\n",
            "\u001b[2K     \u001b[90m━━━━━━━━━━━━━━━━━━━━━━━━━━━━━━━━━━━━━━\u001b[0m \u001b[32m300.0/300.0 kB\u001b[0m \u001b[31m12.9 MB/s\u001b[0m eta \u001b[36m0:00:00\u001b[0m\n",
            "\u001b[?25hRequirement already satisfied: packaging>=20.0 in /usr/local/lib/python3.8/dist-packages (from matplotlib) (23.0)\n",
            "Requirement already satisfied: pillow>=6.2.0 in /usr/local/lib/python3.8/dist-packages (from matplotlib) (8.4.0)\n",
            "Requirement already satisfied: python-dateutil>=2.7 in /usr/local/lib/python3.8/dist-packages (from matplotlib) (2.8.2)\n",
            "Requirement already satisfied: importlib-resources>=3.2.0 in /usr/local/lib/python3.8/dist-packages (from matplotlib) (5.12.0)\n",
            "Requirement already satisfied: pyparsing>=2.3.1 in /usr/local/lib/python3.8/dist-packages (from matplotlib) (3.0.9)\n",
            "Requirement already satisfied: cycler>=0.10 in /usr/local/lib/python3.8/dist-packages (from matplotlib) (0.11.0)\n",
            "Requirement already satisfied: zipp>=3.1.0 in /usr/local/lib/python3.8/dist-packages (from importlib-resources>=3.2.0->matplotlib) (3.15.0)\n",
            "Requirement already satisfied: six>=1.5 in /usr/local/lib/python3.8/dist-packages (from python-dateutil>=2.7->matplotlib) (1.15.0)\n",
            "Installing collected packages: contourpy, matplotlib\n",
            "  Attempting uninstall: matplotlib\n",
            "    Found existing installation: matplotlib 3.5.3\n",
            "    Uninstalling matplotlib-3.5.3:\n",
            "      Successfully uninstalled matplotlib-3.5.3\n",
            "Successfully installed contourpy-1.0.7 matplotlib-3.7.0\n",
            "\u001b[33mWARNING: Running pip as the 'root' user can result in broken permissions and conflicting behaviour with the system package manager. It is recommended to use a virtual environment instead: https://pip.pypa.io/warnings/venv\u001b[0m\u001b[33m\n",
            "\u001b[0m"
          ]
        }
      ]
    },
    {
      "cell_type": "code",
      "execution_count": null,
      "metadata": {
        "id": "o0Ak_Cu7tD7y"
      },
      "outputs": [],
      "source": [
        "import matplotlib.pyplot as plt\n",
        "import numpy as np"
      ]
    },
    {
      "cell_type": "code",
      "source": [
        "from scipy.special import erfc"
      ],
      "metadata": {
        "id": "RwEpPL-ptQxv"
      },
      "execution_count": null,
      "outputs": []
    },
    {
      "cell_type": "code",
      "source": [
        "#define parameters\n",
        "a = 0.0000001308\n",
        "t = 325\n",
        "k = 0.17\n",
        "Tinf = 800\n",
        "Ti = 25\n",
        "#T =?\n",
        "h =  20\n"
      ],
      "metadata": {
        "id": "VarUJIuBtVRq"
      },
      "execution_count": null,
      "outputs": []
    },
    {
      "cell_type": "code",
      "source": [
        "x = np.linspace(0, -0.1, 1000)\n",
        "\n",
        "print(x)"
      ],
      "metadata": {
        "colab": {
          "base_uri": "https://localhost:8080/"
        },
        "id": "0nak6xyiuDHp",
        "outputId": "d265a5da-0edd-4203-93a9-707713a3669d"
      },
      "execution_count": null,
      "outputs": [
        {
          "output_type": "stream",
          "name": "stdout",
          "text": [
            "[ 0.         -0.0001001  -0.0002002  -0.0003003  -0.0004004  -0.0005005\n",
            " -0.0006006  -0.0007007  -0.0008008  -0.0009009  -0.001001   -0.0011011\n",
            " -0.0012012  -0.0013013  -0.0014014  -0.0015015  -0.0016016  -0.0017017\n",
            " -0.0018018  -0.0019019  -0.002002   -0.0021021  -0.0022022  -0.0023023\n",
            " -0.0024024  -0.0025025  -0.0026026  -0.0027027  -0.0028028  -0.0029029\n",
            " -0.003003   -0.0031031  -0.0032032  -0.0033033  -0.0034034  -0.0035035\n",
            " -0.0036036  -0.0037037  -0.0038038  -0.0039039  -0.004004   -0.0041041\n",
            " -0.0042042  -0.0043043  -0.0044044  -0.0045045  -0.0046046  -0.0047047\n",
            " -0.0048048  -0.0049049  -0.00500501 -0.00510511 -0.00520521 -0.00530531\n",
            " -0.00540541 -0.00550551 -0.00560561 -0.00570571 -0.00580581 -0.00590591\n",
            " -0.00600601 -0.00610611 -0.00620621 -0.00630631 -0.00640641 -0.00650651\n",
            " -0.00660661 -0.00670671 -0.00680681 -0.00690691 -0.00700701 -0.00710711\n",
            " -0.00720721 -0.00730731 -0.00740741 -0.00750751 -0.00760761 -0.00770771\n",
            " -0.00780781 -0.00790791 -0.00800801 -0.00810811 -0.00820821 -0.00830831\n",
            " -0.00840841 -0.00850851 -0.00860861 -0.00870871 -0.00880881 -0.00890891\n",
            " -0.00900901 -0.00910911 -0.00920921 -0.00930931 -0.00940941 -0.00950951\n",
            " -0.00960961 -0.00970971 -0.00980981 -0.00990991 -0.01001001 -0.01011011\n",
            " -0.01021021 -0.01031031 -0.01041041 -0.01051051 -0.01061061 -0.01071071\n",
            " -0.01081081 -0.01091091 -0.01101101 -0.01111111 -0.01121121 -0.01131131\n",
            " -0.01141141 -0.01151151 -0.01161161 -0.01171171 -0.01181181 -0.01191191\n",
            " -0.01201201 -0.01211211 -0.01221221 -0.01231231 -0.01241241 -0.01251251\n",
            " -0.01261261 -0.01271271 -0.01281281 -0.01291291 -0.01301301 -0.01311311\n",
            " -0.01321321 -0.01331331 -0.01341341 -0.01351351 -0.01361361 -0.01371371\n",
            " -0.01381381 -0.01391391 -0.01401401 -0.01411411 -0.01421421 -0.01431431\n",
            " -0.01441441 -0.01451451 -0.01461461 -0.01471471 -0.01481481 -0.01491491\n",
            " -0.01501502 -0.01511512 -0.01521522 -0.01531532 -0.01541542 -0.01551552\n",
            " -0.01561562 -0.01571572 -0.01581582 -0.01591592 -0.01601602 -0.01611612\n",
            " -0.01621622 -0.01631632 -0.01641642 -0.01651652 -0.01661662 -0.01671672\n",
            " -0.01681682 -0.01691692 -0.01701702 -0.01711712 -0.01721722 -0.01731732\n",
            " -0.01741742 -0.01751752 -0.01761762 -0.01771772 -0.01781782 -0.01791792\n",
            " -0.01801802 -0.01811812 -0.01821822 -0.01831832 -0.01841842 -0.01851852\n",
            " -0.01861862 -0.01871872 -0.01881882 -0.01891892 -0.01901902 -0.01911912\n",
            " -0.01921922 -0.01931932 -0.01941942 -0.01951952 -0.01961962 -0.01971972\n",
            " -0.01981982 -0.01991992 -0.02002002 -0.02012012 -0.02022022 -0.02032032\n",
            " -0.02042042 -0.02052052 -0.02062062 -0.02072072 -0.02082082 -0.02092092\n",
            " -0.02102102 -0.02112112 -0.02122122 -0.02132132 -0.02142142 -0.02152152\n",
            " -0.02162162 -0.02172172 -0.02182182 -0.02192192 -0.02202202 -0.02212212\n",
            " -0.02222222 -0.02232232 -0.02242242 -0.02252252 -0.02262262 -0.02272272\n",
            " -0.02282282 -0.02292292 -0.02302302 -0.02312312 -0.02322322 -0.02332332\n",
            " -0.02342342 -0.02352352 -0.02362362 -0.02372372 -0.02382382 -0.02392392\n",
            " -0.02402402 -0.02412412 -0.02422422 -0.02432432 -0.02442442 -0.02452452\n",
            " -0.02462462 -0.02472472 -0.02482482 -0.02492492 -0.02502503 -0.02512513\n",
            " -0.02522523 -0.02532533 -0.02542543 -0.02552553 -0.02562563 -0.02572573\n",
            " -0.02582583 -0.02592593 -0.02602603 -0.02612613 -0.02622623 -0.02632633\n",
            " -0.02642643 -0.02652653 -0.02662663 -0.02672673 -0.02682683 -0.02692693\n",
            " -0.02702703 -0.02712713 -0.02722723 -0.02732733 -0.02742743 -0.02752753\n",
            " -0.02762763 -0.02772773 -0.02782783 -0.02792793 -0.02802803 -0.02812813\n",
            " -0.02822823 -0.02832833 -0.02842843 -0.02852853 -0.02862863 -0.02872873\n",
            " -0.02882883 -0.02892893 -0.02902903 -0.02912913 -0.02922923 -0.02932933\n",
            " -0.02942943 -0.02952953 -0.02962963 -0.02972973 -0.02982983 -0.02992993\n",
            " -0.03003003 -0.03013013 -0.03023023 -0.03033033 -0.03043043 -0.03053053\n",
            " -0.03063063 -0.03073073 -0.03083083 -0.03093093 -0.03103103 -0.03113113\n",
            " -0.03123123 -0.03133133 -0.03143143 -0.03153153 -0.03163163 -0.03173173\n",
            " -0.03183183 -0.03193193 -0.03203203 -0.03213213 -0.03223223 -0.03233233\n",
            " -0.03243243 -0.03253253 -0.03263263 -0.03273273 -0.03283283 -0.03293293\n",
            " -0.03303303 -0.03313313 -0.03323323 -0.03333333 -0.03343343 -0.03353353\n",
            " -0.03363363 -0.03373373 -0.03383383 -0.03393393 -0.03403403 -0.03413413\n",
            " -0.03423423 -0.03433433 -0.03443443 -0.03453453 -0.03463463 -0.03473473\n",
            " -0.03483483 -0.03493493 -0.03503504 -0.03513514 -0.03523524 -0.03533534\n",
            " -0.03543544 -0.03553554 -0.03563564 -0.03573574 -0.03583584 -0.03593594\n",
            " -0.03603604 -0.03613614 -0.03623624 -0.03633634 -0.03643644 -0.03653654\n",
            " -0.03663664 -0.03673674 -0.03683684 -0.03693694 -0.03703704 -0.03713714\n",
            " -0.03723724 -0.03733734 -0.03743744 -0.03753754 -0.03763764 -0.03773774\n",
            " -0.03783784 -0.03793794 -0.03803804 -0.03813814 -0.03823824 -0.03833834\n",
            " -0.03843844 -0.03853854 -0.03863864 -0.03873874 -0.03883884 -0.03893894\n",
            " -0.03903904 -0.03913914 -0.03923924 -0.03933934 -0.03943944 -0.03953954\n",
            " -0.03963964 -0.03973974 -0.03983984 -0.03993994 -0.04004004 -0.04014014\n",
            " -0.04024024 -0.04034034 -0.04044044 -0.04054054 -0.04064064 -0.04074074\n",
            " -0.04084084 -0.04094094 -0.04104104 -0.04114114 -0.04124124 -0.04134134\n",
            " -0.04144144 -0.04154154 -0.04164164 -0.04174174 -0.04184184 -0.04194194\n",
            " -0.04204204 -0.04214214 -0.04224224 -0.04234234 -0.04244244 -0.04254254\n",
            " -0.04264264 -0.04274274 -0.04284284 -0.04294294 -0.04304304 -0.04314314\n",
            " -0.04324324 -0.04334334 -0.04344344 -0.04354354 -0.04364364 -0.04374374\n",
            " -0.04384384 -0.04394394 -0.04404404 -0.04414414 -0.04424424 -0.04434434\n",
            " -0.04444444 -0.04454454 -0.04464464 -0.04474474 -0.04484484 -0.04494494\n",
            " -0.04504505 -0.04514515 -0.04524525 -0.04534535 -0.04544545 -0.04554555\n",
            " -0.04564565 -0.04574575 -0.04584585 -0.04594595 -0.04604605 -0.04614615\n",
            " -0.04624625 -0.04634635 -0.04644645 -0.04654655 -0.04664665 -0.04674675\n",
            " -0.04684685 -0.04694695 -0.04704705 -0.04714715 -0.04724725 -0.04734735\n",
            " -0.04744745 -0.04754755 -0.04764765 -0.04774775 -0.04784785 -0.04794795\n",
            " -0.04804805 -0.04814815 -0.04824825 -0.04834835 -0.04844845 -0.04854855\n",
            " -0.04864865 -0.04874875 -0.04884885 -0.04894895 -0.04904905 -0.04914915\n",
            " -0.04924925 -0.04934935 -0.04944945 -0.04954955 -0.04964965 -0.04974975\n",
            " -0.04984985 -0.04994995 -0.05005005 -0.05015015 -0.05025025 -0.05035035\n",
            " -0.05045045 -0.05055055 -0.05065065 -0.05075075 -0.05085085 -0.05095095\n",
            " -0.05105105 -0.05115115 -0.05125125 -0.05135135 -0.05145145 -0.05155155\n",
            " -0.05165165 -0.05175175 -0.05185185 -0.05195195 -0.05205205 -0.05215215\n",
            " -0.05225225 -0.05235235 -0.05245245 -0.05255255 -0.05265265 -0.05275275\n",
            " -0.05285285 -0.05295295 -0.05305305 -0.05315315 -0.05325325 -0.05335335\n",
            " -0.05345345 -0.05355355 -0.05365365 -0.05375375 -0.05385385 -0.05395395\n",
            " -0.05405405 -0.05415415 -0.05425425 -0.05435435 -0.05445445 -0.05455455\n",
            " -0.05465465 -0.05475475 -0.05485485 -0.05495495 -0.05505506 -0.05515516\n",
            " -0.05525526 -0.05535536 -0.05545546 -0.05555556 -0.05565566 -0.05575576\n",
            " -0.05585586 -0.05595596 -0.05605606 -0.05615616 -0.05625626 -0.05635636\n",
            " -0.05645646 -0.05655656 -0.05665666 -0.05675676 -0.05685686 -0.05695696\n",
            " -0.05705706 -0.05715716 -0.05725726 -0.05735736 -0.05745746 -0.05755756\n",
            " -0.05765766 -0.05775776 -0.05785786 -0.05795796 -0.05805806 -0.05815816\n",
            " -0.05825826 -0.05835836 -0.05845846 -0.05855856 -0.05865866 -0.05875876\n",
            " -0.05885886 -0.05895896 -0.05905906 -0.05915916 -0.05925926 -0.05935936\n",
            " -0.05945946 -0.05955956 -0.05965966 -0.05975976 -0.05985986 -0.05995996\n",
            " -0.06006006 -0.06016016 -0.06026026 -0.06036036 -0.06046046 -0.06056056\n",
            " -0.06066066 -0.06076076 -0.06086086 -0.06096096 -0.06106106 -0.06116116\n",
            " -0.06126126 -0.06136136 -0.06146146 -0.06156156 -0.06166166 -0.06176176\n",
            " -0.06186186 -0.06196196 -0.06206206 -0.06216216 -0.06226226 -0.06236236\n",
            " -0.06246246 -0.06256256 -0.06266266 -0.06276276 -0.06286286 -0.06296296\n",
            " -0.06306306 -0.06316316 -0.06326326 -0.06336336 -0.06346346 -0.06356356\n",
            " -0.06366366 -0.06376376 -0.06386386 -0.06396396 -0.06406406 -0.06416416\n",
            " -0.06426426 -0.06436436 -0.06446446 -0.06456456 -0.06466466 -0.06476476\n",
            " -0.06486486 -0.06496496 -0.06506507 -0.06516517 -0.06526527 -0.06536537\n",
            " -0.06546547 -0.06556557 -0.06566567 -0.06576577 -0.06586587 -0.06596597\n",
            " -0.06606607 -0.06616617 -0.06626627 -0.06636637 -0.06646647 -0.06656657\n",
            " -0.06666667 -0.06676677 -0.06686687 -0.06696697 -0.06706707 -0.06716717\n",
            " -0.06726727 -0.06736737 -0.06746747 -0.06756757 -0.06766767 -0.06776777\n",
            " -0.06786787 -0.06796797 -0.06806807 -0.06816817 -0.06826827 -0.06836837\n",
            " -0.06846847 -0.06856857 -0.06866867 -0.06876877 -0.06886887 -0.06896897\n",
            " -0.06906907 -0.06916917 -0.06926927 -0.06936937 -0.06946947 -0.06956957\n",
            " -0.06966967 -0.06976977 -0.06986987 -0.06996997 -0.07007007 -0.07017017\n",
            " -0.07027027 -0.07037037 -0.07047047 -0.07057057 -0.07067067 -0.07077077\n",
            " -0.07087087 -0.07097097 -0.07107107 -0.07117117 -0.07127127 -0.07137137\n",
            " -0.07147147 -0.07157157 -0.07167167 -0.07177177 -0.07187187 -0.07197197\n",
            " -0.07207207 -0.07217217 -0.07227227 -0.07237237 -0.07247247 -0.07257257\n",
            " -0.07267267 -0.07277277 -0.07287287 -0.07297297 -0.07307307 -0.07317317\n",
            " -0.07327327 -0.07337337 -0.07347347 -0.07357357 -0.07367367 -0.07377377\n",
            " -0.07387387 -0.07397397 -0.07407407 -0.07417417 -0.07427427 -0.07437437\n",
            " -0.07447447 -0.07457457 -0.07467467 -0.07477477 -0.07487487 -0.07497497\n",
            " -0.07507508 -0.07517518 -0.07527528 -0.07537538 -0.07547548 -0.07557558\n",
            " -0.07567568 -0.07577578 -0.07587588 -0.07597598 -0.07607608 -0.07617618\n",
            " -0.07627628 -0.07637638 -0.07647648 -0.07657658 -0.07667668 -0.07677678\n",
            " -0.07687688 -0.07697698 -0.07707708 -0.07717718 -0.07727728 -0.07737738\n",
            " -0.07747748 -0.07757758 -0.07767768 -0.07777778 -0.07787788 -0.07797798\n",
            " -0.07807808 -0.07817818 -0.07827828 -0.07837838 -0.07847848 -0.07857858\n",
            " -0.07867868 -0.07877878 -0.07887888 -0.07897898 -0.07907908 -0.07917918\n",
            " -0.07927928 -0.07937938 -0.07947948 -0.07957958 -0.07967968 -0.07977978\n",
            " -0.07987988 -0.07997998 -0.08008008 -0.08018018 -0.08028028 -0.08038038\n",
            " -0.08048048 -0.08058058 -0.08068068 -0.08078078 -0.08088088 -0.08098098\n",
            " -0.08108108 -0.08118118 -0.08128128 -0.08138138 -0.08148148 -0.08158158\n",
            " -0.08168168 -0.08178178 -0.08188188 -0.08198198 -0.08208208 -0.08218218\n",
            " -0.08228228 -0.08238238 -0.08248248 -0.08258258 -0.08268268 -0.08278278\n",
            " -0.08288288 -0.08298298 -0.08308308 -0.08318318 -0.08328328 -0.08338338\n",
            " -0.08348348 -0.08358358 -0.08368368 -0.08378378 -0.08388388 -0.08398398\n",
            " -0.08408408 -0.08418418 -0.08428428 -0.08438438 -0.08448448 -0.08458458\n",
            " -0.08468468 -0.08478478 -0.08488488 -0.08498498 -0.08508509 -0.08518519\n",
            " -0.08528529 -0.08538539 -0.08548549 -0.08558559 -0.08568569 -0.08578579\n",
            " -0.08588589 -0.08598599 -0.08608609 -0.08618619 -0.08628629 -0.08638639\n",
            " -0.08648649 -0.08658659 -0.08668669 -0.08678679 -0.08688689 -0.08698699\n",
            " -0.08708709 -0.08718719 -0.08728729 -0.08738739 -0.08748749 -0.08758759\n",
            " -0.08768769 -0.08778779 -0.08788789 -0.08798799 -0.08808809 -0.08818819\n",
            " -0.08828829 -0.08838839 -0.08848849 -0.08858859 -0.08868869 -0.08878879\n",
            " -0.08888889 -0.08898899 -0.08908909 -0.08918919 -0.08928929 -0.08938939\n",
            " -0.08948949 -0.08958959 -0.08968969 -0.08978979 -0.08988989 -0.08998999\n",
            " -0.09009009 -0.09019019 -0.09029029 -0.09039039 -0.09049049 -0.09059059\n",
            " -0.09069069 -0.09079079 -0.09089089 -0.09099099 -0.09109109 -0.09119119\n",
            " -0.09129129 -0.09139139 -0.09149149 -0.09159159 -0.09169169 -0.09179179\n",
            " -0.09189189 -0.09199199 -0.09209209 -0.09219219 -0.09229229 -0.09239239\n",
            " -0.09249249 -0.09259259 -0.09269269 -0.09279279 -0.09289289 -0.09299299\n",
            " -0.09309309 -0.09319319 -0.09329329 -0.09339339 -0.09349349 -0.09359359\n",
            " -0.09369369 -0.09379379 -0.09389389 -0.09399399 -0.09409409 -0.09419419\n",
            " -0.09429429 -0.09439439 -0.09449449 -0.09459459 -0.09469469 -0.09479479\n",
            " -0.09489489 -0.09499499 -0.0950951  -0.0951952  -0.0952953  -0.0953954\n",
            " -0.0954955  -0.0955956  -0.0956957  -0.0957958  -0.0958959  -0.095996\n",
            " -0.0960961  -0.0961962  -0.0962963  -0.0963964  -0.0964965  -0.0965966\n",
            " -0.0966967  -0.0967968  -0.0968969  -0.096997   -0.0970971  -0.0971972\n",
            " -0.0972973  -0.0973974  -0.0974975  -0.0975976  -0.0976977  -0.0977978\n",
            " -0.0978979  -0.097998   -0.0980981  -0.0981982  -0.0982983  -0.0983984\n",
            " -0.0984985  -0.0985986  -0.0986987  -0.0987988  -0.0988989  -0.098999\n",
            " -0.0990991  -0.0991992  -0.0992993  -0.0993994  -0.0994995  -0.0995996\n",
            " -0.0996997  -0.0997998  -0.0998999  -0.1       ]\n"
          ]
        }
      ]
    },
    {
      "cell_type": "code",
      "source": [
        "def my_function(x):\n",
        "  result = erfc(x/(2*np.sqrt(a*t))) - ((np.exp(((h*x)/k) + ((h*h*a*t)/(k*k))) )* (erfc((x/2*np.sqrt(a*t))+((h*np.sqrt(a*t))/k))))\n",
        "  return result"
      ],
      "metadata": {
        "id": "6JKAxw8TybyG"
      },
      "execution_count": null,
      "outputs": []
    },
    {
      "cell_type": "code",
      "source": [
        "x = np.linspace(0.0028, 0.0033, 20)\n",
        "print(x)\n",
        "\n",
        "TD = my_function(x)\n",
        "print(TD)\n",
        "\n",
        "HE = TD*Tinf - TD*Ti - Ti\n",
        "print(HE)"
      ],
      "metadata": {
        "colab": {
          "base_uri": "https://localhost:8080/"
        },
        "id": "dAdDZWqSy0kn",
        "outputId": "08449fbe-bdf1-4906-948c-7d58c65ae916"
      },
      "execution_count": null,
      "outputs": [
        {
          "output_type": "stream",
          "name": "stdout",
          "text": [
            "[0.0028     0.00282632 0.00285263 0.00287895 0.00290526 0.00293158\n",
            " 0.00295789 0.00298421 0.00301053 0.00303684 0.00306316 0.00308947\n",
            " 0.00311579 0.00314211 0.00316842 0.00319474 0.00322105 0.00324737\n",
            " 0.00327368 0.0033    ]\n",
            "[ 0.0653084   0.06097656  0.05663992  0.05229848  0.04795225  0.04360121\n",
            "  0.03924535  0.03488469  0.0305192   0.02614888  0.02177374  0.01739375\n",
            "  0.01300892  0.00861924  0.00422471 -0.00017468 -0.00457895 -0.00898808\n",
            " -0.0134021  -0.017821  ]\n",
            "[ 25.61401374  22.25683158  18.89593633  15.53132431  12.16299179\n",
            "   8.7909349    5.41514973   2.03563227  -1.34762159  -4.73461603\n",
            "  -8.12535534 -11.51984386 -14.91808606 -18.32008646 -21.72584971\n",
            " -25.13538052 -28.54868369 -31.96576413 -35.38662683 -38.81127687]\n"
          ]
        }
      ]
    },
    {
      "cell_type": "code",
      "source": [
        "TOT = erfc(x/(2*np.sqrt(a*t))) - ((np.exp(((h*x)/k) + ((h*h*a*t)/(k*k))) )* (erfc((x/2*np.sqrt(a*t))+((h*np.sqrt(a*t))/k))))\n",
        "print(TOT)"
      ],
      "metadata": {
        "colab": {
          "base_uri": "https://localhost:8080/"
        },
        "id": "d1FMgzhyvFeL",
        "outputId": "a964bd7c-c8c2-4462-d3cb-f7b775e3e855"
      },
      "execution_count": null,
      "outputs": [
        {
          "output_type": "stream",
          "name": "stdout",
          "text": [
            "[ 0.0653084   0.06097656  0.05663992  0.05229848  0.04795225  0.04360121\n",
            "  0.03924535  0.03488469  0.0305192   0.02614888  0.02177374  0.01739375\n",
            "  0.01300892  0.00861924  0.00422471 -0.00017468 -0.00457895 -0.00898808\n",
            " -0.0134021  -0.017821  ]\n"
          ]
        }
      ]
    },
    {
      "cell_type": "code",
      "source": [
        "plt.xlabel(\"Distance\")\n",
        "plt.ylabel(\"temperature\")\n",
        "plt.title(\"temperatre vs dis\")\n",
        "plt.plot(x, HE)"
      ],
      "metadata": {
        "colab": {
          "base_uri": "https://localhost:8080/",
          "height": 313
        },
        "id": "EhcPrdH3uQWi",
        "outputId": "6ce084c9-36d6-43ef-ee27-ddf154900047"
      },
      "execution_count": null,
      "outputs": [
        {
          "output_type": "execute_result",
          "data": {
            "text/plain": [
              "[<matplotlib.lines.Line2D at 0x7f1400f91eb0>]"
            ]
          },
          "metadata": {},
          "execution_count": 9
        },
        {
          "output_type": "display_data",
          "data": {
            "text/plain": [
              "<Figure size 432x288 with 1 Axes>"
            ],
            "image/png": "[encoded data removed]"
          },
          "metadata": {
            "needs_background": "light"
          }
        }
      ]
    },
    {
      "cell_type": "code",
      "source": [
        "MATT = pa-pb*pc\n",
        "print(MATT)"
      ],
      "metadata": {
        "colab": {
          "base_uri": "https://localhost:8080/"
        },
        "id": "e51FU9bPxyol",
        "outputId": "006c2246-c3c7-4487-9737-618bd88e0c74"
      },
      "execution_count": null,
      "outputs": [
        {
          "output_type": "stream",
          "name": "stdout",
          "text": [
            "[ 4.99271660e-01  4.93389720e-01  4.87496480e-01  4.81591954e-01\n",
            "  4.75676154e-01  4.69749093e-01  4.63810783e-01  4.57861236e-01\n",
            "  4.51900463e-01  4.45928476e-01  4.39945286e-01  4.33950903e-01\n",
            "  4.27945338e-01  4.21928601e-01  4.15900701e-01  4.09861649e-01\n",
            "  4.03811453e-01  3.97750122e-01  3.91677665e-01  3.85594089e-01\n",
            "  3.79499403e-01  3.73393613e-01  3.67276727e-01  3.61148752e-01\n",
            "  3.55009693e-01  3.48859558e-01  3.42698350e-01  3.36526076e-01\n",
            "  3.30342741e-01  3.24148348e-01  3.17942902e-01  3.11726406e-01\n",
            "  3.05498864e-01  2.99260278e-01  2.93010651e-01  2.86749984e-01\n",
            "  2.80478279e-01  2.74195537e-01  2.67901760e-01  2.61596946e-01\n",
            "  2.55281095e-01  2.48954208e-01  2.42616283e-01  2.36267317e-01\n",
            "  2.29907310e-01  2.23536258e-01  2.17154158e-01  2.10761007e-01\n",
            "  2.04356801e-01  1.97941535e-01  1.91515205e-01  1.85077803e-01\n",
            "  1.78629326e-01  1.72169765e-01  1.65699114e-01  1.59217366e-01\n",
            "  1.52724512e-01  1.46220543e-01  1.39705450e-01  1.33179224e-01\n",
            "  1.26641854e-01  1.20093329e-01  1.13533638e-01  1.06962769e-01\n",
            "  1.00380709e-01  9.37874455e-02  8.71829644e-02  8.05672514e-02\n",
            "  7.39402918e-02  6.73020699e-02  6.06525698e-02  5.39917748e-02\n",
            "  4.73196675e-02  4.06362302e-02  3.39414443e-02  2.72352907e-02\n",
            "  2.05177495e-02  1.37888006e-02  7.04842271e-03  2.96594325e-04\n",
            " -6.46670688e-03 -1.32415039e-02 -2.00278202e-02 -2.68256802e-02\n",
            " -3.36351088e-02 -4.04561315e-02 -4.72887746e-02 -5.41330650e-02\n",
            " -6.09890303e-02 -6.78566989e-02 -7.47360997e-02 -8.16272624e-02\n",
            " -8.85302174e-02 -9.54449957e-02 -1.02371629e-01 -1.09310150e-01\n",
            " -1.16260592e-01 -1.23222989e-01 -1.30197375e-01 -1.37183786e-01]\n"
          ]
        }
      ]
    },
    {
      "cell_type": "code",
      "source": [
        "pa = erfc(x/(2*np.sqrt(a*t)))\n",
        "print(pa)\n",
        "\n",
        "pb = np.exp(((h*x)/k) + ((h*h*a*t)/(k*k)))\n",
        "print(pb)\n",
        "\n",
        "pc = erfc((x/2*np.sqrt(a*t))+(h*np.sqrt(a*t)/k))\n",
        "print(pc)"
      ],
      "metadata": {
        "id": "Uc6x0O4XvUkP"
      },
      "execution_count": null,
      "outputs": []
    }
  ]
}